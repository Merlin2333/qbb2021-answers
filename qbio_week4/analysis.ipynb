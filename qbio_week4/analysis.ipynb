{
 "cells": [
  {
   "cell_type": "code",
   "execution_count": 86,
   "metadata": {},
   "outputs": [],
   "source": [
    "import pandas as pd\n",
    "import numpy as np\n",
    "import matplotlib.pyplot as plt\n",
    "from scipy import stats"
   ]
  },
  {
   "cell_type": "code",
   "execution_count": 97,
   "metadata": {},
   "outputs": [],
   "source": [
    "E4_df = pd.read_csv(\"/Users/cmdb/qbb2021-answers/qbio_week4/E4_promoter_meth.txt\", delimiter = '\\t', header = None)\n",
    "E5_df = pd.read_csv(\"/Users/cmdb/qbb2021-answers/qbio_week4/E5.5_promoter_meth.txt\", delimiter = '\\t', header = None)\n"
   ]
  },
  {
   "cell_type": "code",
   "execution_count": 98,
   "metadata": {
    "scrolled": true
   },
   "outputs": [
    {
     "data": {
      "text/html": [
       "<div>\n",
       "<style scoped>\n",
       "    .dataframe tbody tr th:only-of-type {\n",
       "        vertical-align: middle;\n",
       "    }\n",
       "\n",
       "    .dataframe tbody tr th {\n",
       "        vertical-align: top;\n",
       "    }\n",
       "\n",
       "    .dataframe thead th {\n",
       "        text-align: right;\n",
       "    }\n",
       "</style>\n",
       "<table border=\"1\" class=\"dataframe\">\n",
       "  <thead>\n",
       "    <tr style=\"text-align: right;\">\n",
       "      <th></th>\n",
       "      <th>0</th>\n",
       "      <th>1</th>\n",
       "      <th>2</th>\n",
       "      <th>3</th>\n",
       "      <th>4</th>\n",
       "      <th>5</th>\n",
       "      <th>6</th>\n",
       "    </tr>\n",
       "  </thead>\n",
       "  <tbody>\n",
       "    <tr>\n",
       "      <th>0</th>\n",
       "      <td>chr6</td>\n",
       "      <td>50108240</td>\n",
       "      <td>50110240</td>\n",
       "      <td>Mpp6</td>\n",
       "      <td>0</td>\n",
       "      <td>+</td>\n",
       "      <td>0.000000</td>\n",
       "    </tr>\n",
       "    <tr>\n",
       "      <th>1</th>\n",
       "      <td>chr6</td>\n",
       "      <td>50261769</td>\n",
       "      <td>50263769</td>\n",
       "      <td>Dfna5</td>\n",
       "      <td>0</td>\n",
       "      <td>-</td>\n",
       "      <td>0.000000</td>\n",
       "    </tr>\n",
       "    <tr>\n",
       "      <th>2</th>\n",
       "      <td>chr6</td>\n",
       "      <td>50382837</td>\n",
       "      <td>50384837</td>\n",
       "      <td>Osbpl3</td>\n",
       "      <td>0</td>\n",
       "      <td>-</td>\n",
       "      <td>0.000000</td>\n",
       "    </tr>\n",
       "    <tr>\n",
       "      <th>3</th>\n",
       "      <td>chr6</td>\n",
       "      <td>50566474</td>\n",
       "      <td>50568474</td>\n",
       "      <td>Cycs</td>\n",
       "      <td>0</td>\n",
       "      <td>-</td>\n",
       "      <td>133.333333</td>\n",
       "    </tr>\n",
       "    <tr>\n",
       "      <th>4</th>\n",
       "      <td>chr6</td>\n",
       "      <td>50570397</td>\n",
       "      <td>50572397</td>\n",
       "      <td>Mir6371</td>\n",
       "      <td>0</td>\n",
       "      <td>+</td>\n",
       "      <td>700.000000</td>\n",
       "    </tr>\n",
       "  </tbody>\n",
       "</table>\n",
       "</div>"
      ],
      "text/plain": [
       "      0         1         2        3  4  5           6\n",
       "0  chr6  50108240  50110240     Mpp6  0  +    0.000000\n",
       "1  chr6  50261769  50263769    Dfna5  0  -    0.000000\n",
       "2  chr6  50382837  50384837   Osbpl3  0  -    0.000000\n",
       "3  chr6  50566474  50568474     Cycs  0  -  133.333333\n",
       "4  chr6  50570397  50572397  Mir6371  0  +  700.000000"
      ]
     },
     "execution_count": 98,
     "metadata": {},
     "output_type": "execute_result"
    }
   ],
   "source": [
    "E4_df.head()"
   ]
  },
  {
   "cell_type": "code",
   "execution_count": 75,
   "metadata": {},
   "outputs": [
    {
     "data": {
      "text/html": [
       "<div>\n",
       "<style scoped>\n",
       "    .dataframe tbody tr th:only-of-type {\n",
       "        vertical-align: middle;\n",
       "    }\n",
       "\n",
       "    .dataframe tbody tr th {\n",
       "        vertical-align: top;\n",
       "    }\n",
       "\n",
       "    .dataframe thead th {\n",
       "        text-align: right;\n",
       "    }\n",
       "</style>\n",
       "<table border=\"1\" class=\"dataframe\">\n",
       "  <thead>\n",
       "    <tr style=\"text-align: right;\">\n",
       "      <th></th>\n",
       "      <th>0</th>\n",
       "      <th>1</th>\n",
       "      <th>2</th>\n",
       "      <th>3</th>\n",
       "      <th>4</th>\n",
       "      <th>5</th>\n",
       "      <th>6</th>\n",
       "    </tr>\n",
       "  </thead>\n",
       "  <tbody>\n",
       "    <tr>\n",
       "      <th>0</th>\n",
       "      <td>chr6</td>\n",
       "      <td>50108240</td>\n",
       "      <td>50110240</td>\n",
       "      <td>Mpp6</td>\n",
       "      <td>0</td>\n",
       "      <td>+</td>\n",
       "      <td>100.000000</td>\n",
       "    </tr>\n",
       "    <tr>\n",
       "      <th>1</th>\n",
       "      <td>chr6</td>\n",
       "      <td>50261769</td>\n",
       "      <td>50263769</td>\n",
       "      <td>Dfna5</td>\n",
       "      <td>0</td>\n",
       "      <td>-</td>\n",
       "      <td>950.000000</td>\n",
       "    </tr>\n",
       "    <tr>\n",
       "      <th>2</th>\n",
       "      <td>chr6</td>\n",
       "      <td>50382837</td>\n",
       "      <td>50384837</td>\n",
       "      <td>Osbpl3</td>\n",
       "      <td>0</td>\n",
       "      <td>-</td>\n",
       "      <td>1650.000000</td>\n",
       "    </tr>\n",
       "    <tr>\n",
       "      <th>3</th>\n",
       "      <td>chr6</td>\n",
       "      <td>50566474</td>\n",
       "      <td>50568474</td>\n",
       "      <td>Cycs</td>\n",
       "      <td>0</td>\n",
       "      <td>-</td>\n",
       "      <td>650.000000</td>\n",
       "    </tr>\n",
       "    <tr>\n",
       "      <th>4</th>\n",
       "      <td>chr6</td>\n",
       "      <td>50570397</td>\n",
       "      <td>50572397</td>\n",
       "      <td>Mir6371</td>\n",
       "      <td>0</td>\n",
       "      <td>+</td>\n",
       "      <td>1916.666667</td>\n",
       "    </tr>\n",
       "  </tbody>\n",
       "</table>\n",
       "</div>"
      ],
      "text/plain": [
       "      0         1         2        3  4  5            6\n",
       "0  chr6  50108240  50110240     Mpp6  0  +   100.000000\n",
       "1  chr6  50261769  50263769    Dfna5  0  -   950.000000\n",
       "2  chr6  50382837  50384837   Osbpl3  0  -  1650.000000\n",
       "3  chr6  50566474  50568474     Cycs  0  -   650.000000\n",
       "4  chr6  50570397  50572397  Mir6371  0  +  1916.666667"
      ]
     },
     "execution_count": 75,
     "metadata": {},
     "output_type": "execute_result"
    }
   ],
   "source": [
    "E5_df.head()"
   ]
  },
  {
   "cell_type": "code",
   "execution_count": 36,
   "metadata": {},
   "outputs": [],
   "source": [
    "E4_df[6] = pd.to_numeric(E4_df[6])\n",
    "E5_df[6] = pd.to_numeric(E5_df[6])"
   ]
  },
  {
   "cell_type": "code",
   "execution_count": 74,
   "metadata": {},
   "outputs": [
    {
     "data": {
      "text/plain": [
       "<matplotlib.legend.Legend at 0x7fc3aaf468d0>"
      ]
     },
     "execution_count": 74,
     "metadata": {},
     "output_type": "execute_result"
    },
    {
     "data": {
      "image/png": "[encoded data removed]",
      "text/plain": [
       "<Figure size 1440x576 with 3 Axes>"
      ]
     },
     "metadata": {
      "needs_background": "light"
     },
     "output_type": "display_data"
    }
   ],
   "source": [
    "fig,axes = plt.subplots(1,3, figsize = (20,8))\n",
    "axes[0].hist(E4_df[6])\n",
    "axes[0].set_title(\"Methylation scores occuring in each promoter for E4.0 cells\")\n",
    "axes[0].set_xlabel(\"Methylation score\")\n",
    "\n",
    "axes[1].hist(E5_df[6])\n",
    "axes[1].set_title(\"Methylation scores occuring in each promoter for E5.5 cells\")\n",
    "axes[1].set_xlabel(\"Methylation score\")\n",
    "\n",
    "axes[2].scatter(E4_df[6], E5_df[6], c = E4_df[3].str.contains(\"Hox\"), label = \"Hox\")\n",
    "axes[2].set_title(\"E4.0 by E5.5 promoter methlylation scores\")\n",
    "axes[2].set_xlabel(\"E4 methylation score\")\n",
    "axes[2].set_ylabel(\"E5.5 methylation score\")\n",
    "axes[2].legend(handles=scatter.legend_elements()[0], \n",
    "           labels=[\"Non-Hox\", \"Hox\"],\n",
    "           title=\"Gene category\")\n"
   ]
  },
  {
   "cell_type": "code",
   "execution_count": 78,
   "metadata": {},
   "outputs": [],
   "source": [
    "#t-test\n",
    "roi = E4_df[3].str.contains(\"Hox\")\n",
    "roi2 = E5_df[3].str.contains(\"Hox\")"
   ]
  },
  {
   "cell_type": "code",
   "execution_count": 84,
   "metadata": {},
   "outputs": [],
   "source": [
    "E4_hox = E4_df.loc[roi][6]\n",
    "E4_other = E4_df.loc[roi == False][6]"
   ]
  },
  {
   "cell_type": "code",
   "execution_count": 87,
   "metadata": {},
   "outputs": [
    {
     "data": {
      "text/plain": [
       "Ttest_indResult(statistic=1.3120847753050175, pvalue=0.192352780310549)"
      ]
     },
     "execution_count": 87,
     "metadata": {},
     "output_type": "execute_result"
    }
   ],
   "source": [
    "# t test between Hox and other genes in E4\n",
    "stats.ttest_ind(E4_hox, E4_other)"
   ]
  },
  {
   "cell_type": "code",
   "execution_count": 90,
   "metadata": {},
   "outputs": [],
   "source": [
    "E5_hox = E5_df.loc[roi2][6]\n",
    "E5_other = E5_df.loc[roi2 == False][6]"
   ]
  },
  {
   "cell_type": "code",
   "execution_count": 92,
   "metadata": {},
   "outputs": [
    {
     "data": {
      "text/plain": [
       "Ttest_indResult(statistic=-2.8618380769825458, pvalue=0.0050844215499579294)"
      ]
     },
     "execution_count": 92,
     "metadata": {},
     "output_type": "execute_result"
    }
   ],
   "source": [
    "# t test between Hox and other genes in E5.5\n",
    "stats.ttest_ind(E5_hox, E5_other)"
   ]
  }
 ],
 "metadata": {
  "kernelspec": {
   "display_name": "Python 3",
   "language": "python",
   "name": "python3"
  },
  "language_info": {
   "codemirror_mode": {
    "name": "ipython",
    "version": 3
   },
   "file_extension": ".py",
   "mimetype": "text/x-python",
   "name": "python",
   "nbconvert_exporter": "python",
   "pygments_lexer": "ipython3",
   "version": "3.7.1"
  }
 },
 "nbformat": 4,
 "nbformat_minor": 4
}
