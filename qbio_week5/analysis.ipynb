{
 "cells": [
  {
   "cell_type": "code",
   "execution_count": 1,
   "metadata": {},
   "outputs": [],
   "source": [
    "import pandas as pd\n",
    "import numpy as np\n",
    "import matplotlib.pyplot as plt"
   ]
  },
  {
   "cell_type": "code",
   "execution_count": 3,
   "metadata": {},
   "outputs": [],
   "source": [
    "#import the ER4 feature counting\n",
    "ER4_pd = pd.read_csv(\"/Users/cmdb/qbb2021-answers/qbio_week5/ER4_feature.bed\",delimiter = \"\\t\", header = None)"
   ]
  },
  {
   "cell_type": "code",
   "execution_count": 4,
   "metadata": {},
   "outputs": [],
   "source": [
    "#build a library with keys as each features and values as the count for each feature\n",
    "ER4_dict = {\"Intron\": ER4_pd[ER4_pd[3] == \"intron\"].shape[0], \n",
    "            \"Exon\": ER4_pd[ER4_pd[3] == \"exon\"].shape[0],\n",
    "           \"Promoter\": ER4_pd[ER4_pd[3] == \"promoter\"].shape[0]}"
   ]
  },
  {
   "cell_type": "code",
   "execution_count": 5,
   "metadata": {},
   "outputs": [
    {
     "data": {
      "text/plain": [
       "{'Intron': 288, 'Exon': 116, 'Promoter': 58}"
      ]
     },
     "execution_count": 5,
     "metadata": {},
     "output_type": "execute_result"
    }
   ],
   "source": [
    "ER4_dict"
   ]
  },
  {
   "cell_type": "code",
   "execution_count": 6,
   "metadata": {},
   "outputs": [],
   "source": [
    "# import the G1E feature counting:\n",
    "G1E_pd = pd.read_csv(\"/Users/cmdb/qbb2021-answers/qbio_week5/G1E_feature.bed\",delimiter = \"\\t\", header = None)"
   ]
  },
  {
   "cell_type": "code",
   "execution_count": 7,
   "metadata": {},
   "outputs": [],
   "source": [
    "#build a library with keys as each features and values as the count for each feature\n",
    "G1E_dict = {\"Intron\": G1E_pd[G1E_pd[3] == \"intron\"].shape[0], \n",
    "            \"Exon\": G1E_pd[G1E_pd[3] == \"exon\"].shape[0],\n",
    "           \"Promoter\": G1E_pd[G1E_pd[3] == \"promoter\"].shape[0]}"
   ]
  },
  {
   "cell_type": "code",
   "execution_count": 11,
   "metadata": {},
   "outputs": [],
   "source": [
    "#import the gain and loss of binding sites\n",
    "gain_pd = pd.read_csv(\"/Users/cmdb/qbb2021-answers/qbio_week5/peaks_gained_features.bed\",delimiter = \"\\t\", header = None)\n",
    "loss_pd = pd.read_csv(\"/Users/cmdb/qbb2021-answers/qbio_week5/peaks_lost_features.bed\",delimiter = \"\\t\", header = None)"
   ]
  },
  {
   "cell_type": "code",
   "execution_count": 16,
   "metadata": {},
   "outputs": [
    {
     "data": {
      "text/html": [
       "<div>\n",
       "<style scoped>\n",
       "    .dataframe tbody tr th:only-of-type {\n",
       "        vertical-align: middle;\n",
       "    }\n",
       "\n",
       "    .dataframe tbody tr th {\n",
       "        vertical-align: top;\n",
       "    }\n",
       "\n",
       "    .dataframe thead th {\n",
       "        text-align: right;\n",
       "    }\n",
       "</style>\n",
       "<table border=\"1\" class=\"dataframe\">\n",
       "  <thead>\n",
       "    <tr style=\"text-align: right;\">\n",
       "      <th></th>\n",
       "      <th>0</th>\n",
       "      <th>1</th>\n",
       "      <th>2</th>\n",
       "      <th>3</th>\n",
       "      <th>4</th>\n",
       "      <th>5</th>\n",
       "    </tr>\n",
       "  </thead>\n",
       "  <tbody>\n",
       "    <tr>\n",
       "      <th>0</th>\n",
       "      <td>chr19</td>\n",
       "      <td>4000080</td>\n",
       "      <td>4000523</td>\n",
       "      <td>promoter</td>\n",
       "      <td>.</td>\n",
       "      <td>+</td>\n",
       "    </tr>\n",
       "    <tr>\n",
       "      <th>1</th>\n",
       "      <td>chr19</td>\n",
       "      <td>4000126</td>\n",
       "      <td>4000523</td>\n",
       "      <td>promoter</td>\n",
       "      <td>.</td>\n",
       "      <td>+</td>\n",
       "    </tr>\n",
       "    <tr>\n",
       "      <th>2</th>\n",
       "      <td>chr19</td>\n",
       "      <td>4136261</td>\n",
       "      <td>4136341</td>\n",
       "      <td>intron</td>\n",
       "      <td>.</td>\n",
       "      <td>-</td>\n",
       "    </tr>\n",
       "    <tr>\n",
       "      <th>3</th>\n",
       "      <td>chr19</td>\n",
       "      <td>4136114</td>\n",
       "      <td>4136261</td>\n",
       "      <td>exon</td>\n",
       "      <td>.</td>\n",
       "      <td>-</td>\n",
       "    </tr>\n",
       "    <tr>\n",
       "      <th>4</th>\n",
       "      <td>chr19</td>\n",
       "      <td>4136018</td>\n",
       "      <td>4136114</td>\n",
       "      <td>intron</td>\n",
       "      <td>.</td>\n",
       "      <td>-</td>\n",
       "    </tr>\n",
       "    <tr>\n",
       "      <th>...</th>\n",
       "      <td>...</td>\n",
       "      <td>...</td>\n",
       "      <td>...</td>\n",
       "      <td>...</td>\n",
       "      <td>...</td>\n",
       "      <td>...</td>\n",
       "    </tr>\n",
       "    <tr>\n",
       "      <th>130</th>\n",
       "      <td>chr19</td>\n",
       "      <td>57816593</td>\n",
       "      <td>57816952</td>\n",
       "      <td>intron</td>\n",
       "      <td>.</td>\n",
       "      <td>+</td>\n",
       "    </tr>\n",
       "    <tr>\n",
       "      <th>131</th>\n",
       "      <td>chr19</td>\n",
       "      <td>58911410</td>\n",
       "      <td>58911797</td>\n",
       "      <td>promoter</td>\n",
       "      <td>.</td>\n",
       "      <td>-</td>\n",
       "    </tr>\n",
       "    <tr>\n",
       "      <th>132</th>\n",
       "      <td>chr19</td>\n",
       "      <td>58911673</td>\n",
       "      <td>58911759</td>\n",
       "      <td>exon</td>\n",
       "      <td>.</td>\n",
       "      <td>-</td>\n",
       "    </tr>\n",
       "    <tr>\n",
       "      <th>133</th>\n",
       "      <td>chr19</td>\n",
       "      <td>61097837</td>\n",
       "      <td>61098181</td>\n",
       "      <td>intron</td>\n",
       "      <td>.</td>\n",
       "      <td>-</td>\n",
       "    </tr>\n",
       "    <tr>\n",
       "      <th>134</th>\n",
       "      <td>chr19</td>\n",
       "      <td>61110159</td>\n",
       "      <td>61110489</td>\n",
       "      <td>intron</td>\n",
       "      <td>.</td>\n",
       "      <td>-</td>\n",
       "    </tr>\n",
       "  </tbody>\n",
       "</table>\n",
       "<p>135 rows × 6 columns</p>\n",
       "</div>"
      ],
      "text/plain": [
       "         0         1         2         3  4  5\n",
       "0    chr19   4000080   4000523  promoter  .  +\n",
       "1    chr19   4000126   4000523  promoter  .  +\n",
       "2    chr19   4136261   4136341    intron  .  -\n",
       "3    chr19   4136114   4136261      exon  .  -\n",
       "4    chr19   4136018   4136114    intron  .  -\n",
       "..     ...       ...       ...       ... .. ..\n",
       "130  chr19  57816593  57816952    intron  .  +\n",
       "131  chr19  58911410  58911797  promoter  .  -\n",
       "132  chr19  58911673  58911759      exon  .  -\n",
       "133  chr19  61097837  61098181    intron  .  -\n",
       "134  chr19  61110159  61110489    intron  .  -\n",
       "\n",
       "[135 rows x 6 columns]"
      ]
     },
     "execution_count": 16,
     "metadata": {},
     "output_type": "execute_result"
    }
   ],
   "source": [
    "gain_pd"
   ]
  },
  {
   "cell_type": "code",
   "execution_count": 19,
   "metadata": {},
   "outputs": [],
   "source": [
    "keys_gained, counts_gained = np.unique(gain_pd[3], return_counts=True)\n",
    "keys_lost, counts_lost = np.unique(loss_pd[3], return_counts=True)"
   ]
  },
  {
   "cell_type": "code",
   "execution_count": null,
   "metadata": {},
   "outputs": [],
   "source": []
  },
  {
   "cell_type": "code",
   "execution_count": 23,
   "metadata": {},
   "outputs": [
    {
     "data": {
      "image/png": "[encoded data removed]",
      "text/plain": [
       "<Figure size 1440x576 with 2 Axes>"
      ]
     },
     "metadata": {
      "needs_background": "light"
     },
     "output_type": "display_data"
    }
   ],
   "source": [
    "fig,axes = plt.subplots(1,2, figsize = (20,8))\n",
    "\n",
    "#the number of CTCF binding sites in each type of region\n",
    "ind = np.arange(3)\n",
    "width = 0.35\n",
    "axes[0].bar(ind-width/2, ER4_dict.values(),width,label = \"ER4\")\n",
    "axes[0].bar(ind+width/2, G1E_dict.values(),width,label = \"G1E\")\n",
    "axes[0].set_xticks(ind)\n",
    "axes[0].set_xticklabels(('Intron', 'Exon', 'Promoter'))\n",
    "axes[0].set_ylabel(\"Counts\")\n",
    "axes[0].legend()\n",
    "axes[0].set_title(\"CTCF binding sites in each type of region\")\n",
    "\n",
    "#number of sites lost and gained during differentiation for each cell type\n",
    "axes[1].bar(ind, counts_gained.tolist(), width, label='Peaks gained after differentiation')\n",
    "axes[1].bar(ind + width, counts_lost.tolist(), width, label='Peaks lost after differentiation')\n",
    "axes[1].set_xticks(ind + width / 2)\n",
    "axes[1].set_xticklabels(['exon', 'intron', 'promoter'])\n",
    "axes[1].legend(loc='upper right')\n",
    "axes[1].set_title('Feature of CTCF binding sites lost or gained')\n",
    "\n",
    "plt.show()\n"
   ]
  },
  {
   "cell_type": "code",
   "execution_count": null,
   "metadata": {},
   "outputs": [],
   "source": []
  },
  {
   "cell_type": "code",
   "execution_count": null,
   "metadata": {},
   "outputs": [],
   "source": []
  },
  {
   "cell_type": "code",
   "execution_count": null,
   "metadata": {},
   "outputs": [],
   "source": []
  },
  {
   "cell_type": "code",
   "execution_count": null,
   "metadata": {},
   "outputs": [],
   "source": []
  }
 ],
 "metadata": {
  "kernelspec": {
   "display_name": "Python 3",
   "language": "python",
   "name": "python3"
  },
  "language_info": {
   "codemirror_mode": {
    "name": "ipython",
    "version": 3
   },
   "file_extension": ".py",
   "mimetype": "text/x-python",
   "name": "python",
   "nbconvert_exporter": "python",
   "pygments_lexer": "ipython3",
   "version": "3.7.1"
  }
 },
 "nbformat": 4,
 "nbformat_minor": 4
}
