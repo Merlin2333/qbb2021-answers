{
 "cells": [
  {
   "cell_type": "code",
   "execution_count": 82,
   "metadata": {},
   "outputs": [],
   "source": [
    "import pandas as pd\n",
    "import numpy as np\n",
    "import matplotlib.pyplot as plt"
   ]
  },
  {
   "cell_type": "code",
   "execution_count": 83,
   "metadata": {},
   "outputs": [],
   "source": [
    "#import the ER4 feature counting\n",
    "ER4_pd = pd.read_csv(\"/Users/cmdb/qbb2021-answers/qbio_week5/ER4_feature.bed\",delimiter = \"\\t\", header = None)"
   ]
  },
  {
   "cell_type": "code",
   "execution_count": 84,
   "metadata": {},
   "outputs": [],
   "source": [
    "#build a library with keys as each features and values as the count for each feature\n",
    "ER4_dict = {\"Intron\": ER4_pd[ER4_pd[3] == \"intron\"].shape[0], \n",
    "            \"Exon\": ER4_pd[ER4_pd[3] == \"exon\"].shape[0],\n",
    "           \"Promoter\": ER4_pd[ER4_pd[3] == \"promoter\"].shape[0]}"
   ]
  },
  {
   "cell_type": "code",
   "execution_count": 85,
   "metadata": {},
   "outputs": [
    {
     "data": {
      "text/plain": [
       "{'Intron': 288, 'Exon': 116, 'Promoter': 58}"
      ]
     },
     "execution_count": 85,
     "metadata": {},
     "output_type": "execute_result"
    }
   ],
   "source": [
    "ER4_dict"
   ]
  },
  {
   "cell_type": "code",
   "execution_count": 86,
   "metadata": {},
   "outputs": [],
   "source": [
    "# import the G1E feature counting:\n",
    "G1E_pd = pd.read_csv(\"/Users/cmdb/qbb2021-answers/qbio_week5/G1E_feature.bed\",delimiter = \"\\t\", header = None)"
   ]
  },
  {
   "cell_type": "code",
   "execution_count": 87,
   "metadata": {},
   "outputs": [],
   "source": [
    "#build a library with keys as each features and values as the count for each feature\n",
    "G1E_dict = {\"Intron\": G1E_pd[G1E_pd[3] == \"intron\"].shape[0], \n",
    "            \"Exon\": G1E_pd[G1E_pd[3] == \"exon\"].shape[0],\n",
    "           \"Promoter\": G1E_pd[G1E_pd[3] == \"promoter\"].shape[0]}"
   ]
  },
  {
   "cell_type": "code",
   "execution_count": 88,
   "metadata": {},
   "outputs": [],
   "source": [
    "#import the gain and loss of binding sites\n",
    "gain_pd = pd.read_csv(\"/Users/cmdb/qbb2021-answers/qbio_week5/gain_CTCF_binding.bed\",delimiter = \"\\t\", header = None)\n",
    "loss_pd = pd.read_csv(\"/Users/cmdb/qbb2021-answers/qbio_week5/loss_CTCF_binding.bed\",delimiter = \"\\t\", header = None)"
   ]
  },
  {
   "cell_type": "code",
   "execution_count": 91,
   "metadata": {},
   "outputs": [
    {
     "data": {
      "text/plain": [
       "{'Intron': 218, 'Exon': 83, 'Promoter': 37}"
      ]
     },
     "execution_count": 91,
     "metadata": {},
     "output_type": "execute_result"
    }
   ],
   "source": [
    "G1E_dict\n"
   ]
  },
  {
   "cell_type": "code",
   "execution_count": 90,
   "metadata": {},
   "outputs": [
    {
     "data": {
      "image/png": "[encoded data removed]",
      "text/plain": [
       "<Figure size 1440x576 with 2 Axes>"
      ]
     },
     "metadata": {
      "needs_background": "light"
     },
     "output_type": "display_data"
    }
   ],
   "source": [
    "fig,axes = plt.subplots(1,2, figsize = (20,8))\n",
    "\n",
    "#the number of CTCF binding sites in each type of region\n",
    "ind = np.arange(3)\n",
    "width = 0.35\n",
    "axes[0].bar(ind-width/2, ER4_dict.values(),width,label = \"ER4\")\n",
    "axes[0].bar(ind+width/2, G1E_dict.values(),width,label = \"G1E\")\n",
    "axes[0].set_xticks(ind)\n",
    "axes[0].set_xticklabels(('Intron', 'Exon', 'Promoter'))\n",
    "axes[0].set_ylabel(\"Counts\")\n",
    "axes[0].legend()\n",
    "axes[0].set_title(\"CTCF binding sites in each type of region\")\n",
    "\n",
    "#number of sites lost and gained during differentiation for each cell type\n",
    "x = [\"Gain\", \"Loss\"]\n",
    "y = [gain_pd.shape[0], loss_pd.shape[0]]\n",
    "xlocs, xlabs = plt.xticks()\n",
    "xlocs=[i+1 for i in range(0,2)]\n",
    "xlabs=[i/2 for i in range(0,2)]\n",
    "axes[1].bar(x,y, width = 0.35)\n",
    "\n",
    "for i, v in enumerate(y):\n",
    "    axes[1].text(xlocs[i] - 1, v + 1, str(v))\n",
    "\n"
   ]
  },
  {
   "cell_type": "code",
   "execution_count": null,
   "metadata": {},
   "outputs": [],
   "source": []
  },
  {
   "cell_type": "code",
   "execution_count": null,
   "metadata": {},
   "outputs": [],
   "source": []
  },
  {
   "cell_type": "code",
   "execution_count": null,
   "metadata": {},
   "outputs": [],
   "source": []
  },
  {
   "cell_type": "code",
   "execution_count": null,
   "metadata": {},
   "outputs": [],
   "source": []
  }
 ],
 "metadata": {
  "kernelspec": {
   "display_name": "Python 3",
   "language": "python",
   "name": "python3"
  },
  "language_info": {
   "codemirror_mode": {
    "name": "ipython",
    "version": 3
   },
   "file_extension": ".py",
   "mimetype": "text/x-python",
   "name": "python",
   "nbconvert_exporter": "python",
   "pygments_lexer": "ipython3",
   "version": "3.7.1"
  }
 },
 "nbformat": 4,
 "nbformat_minor": 4
}
